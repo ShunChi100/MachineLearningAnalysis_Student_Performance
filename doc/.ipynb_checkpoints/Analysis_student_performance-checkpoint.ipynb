{
 "cells": [
  {
   "cell_type": "markdown",
   "metadata": {},
   "source": [
    "## Analysis of Student Performance Data Set \n",
    "\n",
    "Education is a key factor in the development of social society. The study on improving education quality has never been stopped. Nowadays, with more structured data collected from students, a qualitative analysis using machine learning can give insights into the factors that have a strong influence on students' performance. Here in this report, we analyzed the _Student Performance Data Set[1]_ from [UCI](http://archive.ics.uci.edu/ml/datasets/Student+Performance) using a few supervised machine learning algorithms. \n",
    "\n",
    "This data collect student achievement in secondary education of two Portuguese schools. The math and Portuguese exam grades are recorded as the measure of performance. In this report, we focus on the math data set.  There are 395 students has been surveyed on 30 school, demographic related features, such as gender, age, study time, etc. in this math dataset. We would like to use these features to build a model that can predict the performance of a new student. In addition, we also did feature selection to see the importance (correlation) of each feature on students' performance.\n",
    "\n",
    "There are three grades recorded as `G1, G2, G3` in three exams. They are highly correlated as expected. Here we focus on the prediction on `G3`, the final grade in the range [0, 20]. The following is a distribution of the grades\n",
    "\n",
    "![](../results/images/G3.png)\n",
    "\n",
    "\n",
    "\n",
    "\n",
    "\n",
    "\n",
    "[1]P. Cortez and A. Silva. Using Data Mining to Predict Secondary School Student Performance. In A. Brito and J. Teixeira Eds., Proceedings of 5th FUture BUsiness TEChnology Conference (FUBUTEC 2008) pp. 5-12, Porto, Portugal, April, 2008, EUROSIS, ISBN 978-9077381-39-7."
   ]
  },
  {
   "cell_type": "code",
   "execution_count": null,
   "metadata": {
    "collapsed": true
   },
   "outputs": [],
   "source": []
  }
 ],
 "metadata": {
  "kernelspec": {
   "display_name": "Python 3",
   "language": "python",
   "name": "python3"
  },
  "language_info": {
   "codemirror_mode": {
    "name": "ipython",
    "version": 3
   },
   "file_extension": ".py",
   "mimetype": "text/x-python",
   "name": "python",
   "nbconvert_exporter": "python",
   "pygments_lexer": "ipython3",
   "version": "3.6.1"
  }
 },
 "nbformat": 4,
 "nbformat_minor": 2
}
